{
 "cells": [
  {
   "cell_type": "code",
   "execution_count": 15,
   "metadata": {},
   "outputs": [],
   "source": [
    "import pandas as pd\n",
    "import matplotlib.pyplot as plt\n",
    "import os"
   ]
  },
  {
   "cell_type": "code",
   "execution_count": 16,
   "metadata": {},
   "outputs": [],
   "source": [
    "probing_folder = 'logs/hypertune_no_strategy_simsiam_11-26_16-04/no_strategy_simsiam_cifar100_11-26_16-04/probing_upto/probing_ratio1'"
   ]
  },
  {
   "cell_type": "code",
   "execution_count": 17,
   "metadata": {},
   "outputs": [
    {
     "name": "stdout",
     "output_type": "stream",
     "text": [
      "expidx: 11\n",
      "expidx: 0\n",
      "expidx: 13\n",
      "expidx: 14\n",
      "expidx: 1\n",
      "expidx: 10\n",
      "expidx: 19\n",
      "expidx: 5\n",
      "expidx: 16\n",
      "expidx: 6\n",
      "expidx: 2\n",
      "expidx: 15\n",
      "expidx: 7\n",
      "expidx: 18\n",
      "expidx: 12\n",
      "expidx: 4\n",
      "expidx: 17\n",
      "expidx: 3\n",
      "expidx: 9\n",
      "expidx: 8\n"
     ]
    }
   ],
   "source": [
    "probe_exp_df_list = [] # List of tuples (Dataframe, exp_index)\n",
    "\n",
    "# Read all csv, one for each experience on which probing has been executed\n",
    "for file in os.listdir(probing_folder):\n",
    "        if file.endswith('.csv'):\n",
    "            probe_exp = int(file.split('.csv')[0].split('probe_exp_')[-1])\n",
    "            print('expidx:', probe_exp)\n",
    "            df = pd.read_csv(os.path.join(probing_folder, file))\n",
    "            probe_exp_df_list.append((df, probe_exp))\n",
    "\n",
    "# Find df with highest exp_index in probe_exp_df_list\n",
    "final_df = max(probe_exp_df_list, key=lambda x: x[1])[0]\n",
    "\n",
    "# Sort by exp idx\n",
    "probe_df_list = [tup[0] for tup in sorted(probe_exp_df_list, key=lambda x: x[1])]"
   ]
  },
  {
   "cell_type": "markdown",
   "metadata": {},
   "source": [
    "### Final accuracy"
   ]
  },
  {
   "cell_type": "code",
   "execution_count": 18,
   "metadata": {},
   "outputs": [],
   "source": [
    "final_df = probe_df_list[-1]"
   ]
  },
  {
   "cell_type": "markdown",
   "metadata": {},
   "source": [
    "Final accuracy for each probing epoch."
   ]
  },
  {
   "cell_type": "code",
   "execution_count": 19,
   "metadata": {},
   "outputs": [
    {
     "name": "stdout",
     "output_type": "stream",
     "text": [
      "Experiment 0 had final accuracy of 0.0806\n"
     ]
    }
   ],
   "source": [
    "\n",
    "for exp_idx, acc in enumerate(final_df['test_acc'].to_list()):\n",
    "    print(f'Experiment {exp_idx} had final accuracy of {acc}')"
   ]
  },
  {
   "cell_type": "markdown",
   "metadata": {},
   "source": [
    "Final Average Accuracy"
   ]
  },
  {
   "cell_type": "code",
   "execution_count": 20,
   "metadata": {},
   "outputs": [
    {
     "name": "stdout",
     "output_type": "stream",
     "text": [
      "Final average accuracy: 0.0806\n"
     ]
    }
   ],
   "source": [
    "final_avg_acc =  final_df['test_acc'].mean()\n",
    "print(f'Final average accuracy: {final_avg_acc:.4f}')"
   ]
  },
  {
   "cell_type": "markdown",
   "metadata": {},
   "source": [
    "### Anytime Accuracy"
   ]
  },
  {
   "cell_type": "code",
   "execution_count": 21,
   "metadata": {},
   "outputs": [
    {
     "name": "stdout",
     "output_type": "stream",
     "text": [
      "<class 'pandas.core.frame.DataFrame'>\n",
      "RangeIndex: 20 entries, 0 to 19\n",
      "Data columns (total 2 columns):\n",
      " #   Column    Non-Null Count  Dtype  \n",
      "---  ------    --------------  -----  \n",
      " 0   val_acc   20 non-null     float64\n",
      " 1   test_acc  20 non-null     float64\n",
      "dtypes: float64(2)\n",
      "memory usage: 448.0 bytes\n"
     ]
    },
    {
     "ename": "KeyError",
     "evalue": "'probing_exp_idx'",
     "output_type": "error",
     "traceback": [
      "\u001b[0;31m---------------------------------------------------------------------------\u001b[0m",
      "\u001b[0;31mKeyError\u001b[0m                                  Traceback (most recent call last)",
      "\u001b[1;32m/home/giacomo/Desktop/thesis_md/continual_self_sup/analyse_probing.ipynb Cell 11\u001b[0m line \u001b[0;36m4\n\u001b[1;32m      <a href='vscode-notebook-cell:/home/giacomo/Desktop/thesis_md/continual_self_sup/analyse_probing.ipynb#X51sZmlsZQ%3D%3D?line=1'>2</a>\u001b[0m concatenated_df \u001b[39m=\u001b[39m pd\u001b[39m.\u001b[39mconcat(probe_df_list, ignore_index\u001b[39m=\u001b[39m\u001b[39mTrue\u001b[39;00m)\n\u001b[1;32m      <a href='vscode-notebook-cell:/home/giacomo/Desktop/thesis_md/continual_self_sup/analyse_probing.ipynb#X51sZmlsZQ%3D%3D?line=2'>3</a>\u001b[0m concatenated_df\u001b[39m.\u001b[39minfo()\n\u001b[0;32m----> <a href='vscode-notebook-cell:/home/giacomo/Desktop/thesis_md/continual_self_sup/analyse_probing.ipynb#X51sZmlsZQ%3D%3D?line=3'>4</a>\u001b[0m grouped_df \u001b[39m=\u001b[39m concatenated_df\u001b[39m.\u001b[39;49mgroupby(\u001b[39m'\u001b[39;49m\u001b[39mprobing_exp_idx\u001b[39;49m\u001b[39m'\u001b[39;49m)\n",
      "File \u001b[0;32m~/mambaforge/envs/cl_ssl/lib/python3.10/site-packages/pandas/core/frame.py:8872\u001b[0m, in \u001b[0;36mDataFrame.groupby\u001b[0;34m(self, by, axis, level, as_index, sort, group_keys, observed, dropna)\u001b[0m\n\u001b[1;32m   8869\u001b[0m \u001b[39mif\u001b[39;00m level \u001b[39mis\u001b[39;00m \u001b[39mNone\u001b[39;00m \u001b[39mand\u001b[39;00m by \u001b[39mis\u001b[39;00m \u001b[39mNone\u001b[39;00m:\n\u001b[1;32m   8870\u001b[0m     \u001b[39mraise\u001b[39;00m \u001b[39mTypeError\u001b[39;00m(\u001b[39m\"\u001b[39m\u001b[39mYou have to supply one of \u001b[39m\u001b[39m'\u001b[39m\u001b[39mby\u001b[39m\u001b[39m'\u001b[39m\u001b[39m and \u001b[39m\u001b[39m'\u001b[39m\u001b[39mlevel\u001b[39m\u001b[39m'\u001b[39m\u001b[39m\"\u001b[39m)\n\u001b[0;32m-> 8872\u001b[0m \u001b[39mreturn\u001b[39;00m DataFrameGroupBy(\n\u001b[1;32m   8873\u001b[0m     obj\u001b[39m=\u001b[39;49m\u001b[39mself\u001b[39;49m,\n\u001b[1;32m   8874\u001b[0m     keys\u001b[39m=\u001b[39;49mby,\n\u001b[1;32m   8875\u001b[0m     axis\u001b[39m=\u001b[39;49maxis,\n\u001b[1;32m   8876\u001b[0m     level\u001b[39m=\u001b[39;49mlevel,\n\u001b[1;32m   8877\u001b[0m     as_index\u001b[39m=\u001b[39;49mas_index,\n\u001b[1;32m   8878\u001b[0m     sort\u001b[39m=\u001b[39;49msort,\n\u001b[1;32m   8879\u001b[0m     group_keys\u001b[39m=\u001b[39;49mgroup_keys,\n\u001b[1;32m   8880\u001b[0m     observed\u001b[39m=\u001b[39;49mobserved,\n\u001b[1;32m   8881\u001b[0m     dropna\u001b[39m=\u001b[39;49mdropna,\n\u001b[1;32m   8882\u001b[0m )\n",
      "File \u001b[0;32m~/mambaforge/envs/cl_ssl/lib/python3.10/site-packages/pandas/core/groupby/groupby.py:1274\u001b[0m, in \u001b[0;36mGroupBy.__init__\u001b[0;34m(self, obj, keys, axis, level, grouper, exclusions, selection, as_index, sort, group_keys, observed, dropna)\u001b[0m\n\u001b[1;32m   1271\u001b[0m \u001b[39mself\u001b[39m\u001b[39m.\u001b[39mdropna \u001b[39m=\u001b[39m dropna\n\u001b[1;32m   1273\u001b[0m \u001b[39mif\u001b[39;00m grouper \u001b[39mis\u001b[39;00m \u001b[39mNone\u001b[39;00m:\n\u001b[0;32m-> 1274\u001b[0m     grouper, exclusions, obj \u001b[39m=\u001b[39m get_grouper(\n\u001b[1;32m   1275\u001b[0m         obj,\n\u001b[1;32m   1276\u001b[0m         keys,\n\u001b[1;32m   1277\u001b[0m         axis\u001b[39m=\u001b[39;49maxis,\n\u001b[1;32m   1278\u001b[0m         level\u001b[39m=\u001b[39;49mlevel,\n\u001b[1;32m   1279\u001b[0m         sort\u001b[39m=\u001b[39;49msort,\n\u001b[1;32m   1280\u001b[0m         observed\u001b[39m=\u001b[39;49m\u001b[39mFalse\u001b[39;49;00m \u001b[39mif\u001b[39;49;00m observed \u001b[39mis\u001b[39;49;00m lib\u001b[39m.\u001b[39;49mno_default \u001b[39melse\u001b[39;49;00m observed,\n\u001b[1;32m   1281\u001b[0m         dropna\u001b[39m=\u001b[39;49m\u001b[39mself\u001b[39;49m\u001b[39m.\u001b[39;49mdropna,\n\u001b[1;32m   1282\u001b[0m     )\n\u001b[1;32m   1284\u001b[0m \u001b[39mif\u001b[39;00m observed \u001b[39mis\u001b[39;00m lib\u001b[39m.\u001b[39mno_default:\n\u001b[1;32m   1285\u001b[0m     \u001b[39mif\u001b[39;00m \u001b[39many\u001b[39m(ping\u001b[39m.\u001b[39m_passed_categorical \u001b[39mfor\u001b[39;00m ping \u001b[39min\u001b[39;00m grouper\u001b[39m.\u001b[39mgroupings):\n",
      "File \u001b[0;32m~/mambaforge/envs/cl_ssl/lib/python3.10/site-packages/pandas/core/groupby/grouper.py:1009\u001b[0m, in \u001b[0;36mget_grouper\u001b[0;34m(obj, key, axis, level, sort, observed, validate, dropna)\u001b[0m\n\u001b[1;32m   1007\u001b[0m         in_axis, level, gpr \u001b[39m=\u001b[39m \u001b[39mFalse\u001b[39;00m, gpr, \u001b[39mNone\u001b[39;00m\n\u001b[1;32m   1008\u001b[0m     \u001b[39melse\u001b[39;00m:\n\u001b[0;32m-> 1009\u001b[0m         \u001b[39mraise\u001b[39;00m \u001b[39mKeyError\u001b[39;00m(gpr)\n\u001b[1;32m   1010\u001b[0m \u001b[39melif\u001b[39;00m \u001b[39misinstance\u001b[39m(gpr, Grouper) \u001b[39mand\u001b[39;00m gpr\u001b[39m.\u001b[39mkey \u001b[39mis\u001b[39;00m \u001b[39mnot\u001b[39;00m \u001b[39mNone\u001b[39;00m:\n\u001b[1;32m   1011\u001b[0m     \u001b[39m# Add key to exclusions\u001b[39;00m\n\u001b[1;32m   1012\u001b[0m     exclusions\u001b[39m.\u001b[39madd(gpr\u001b[39m.\u001b[39mkey)\n",
      "\u001b[0;31mKeyError\u001b[0m: 'probing_exp_idx'"
     ]
    }
   ],
   "source": [
    "# Concat all rows having same exp_idx value across all df in probe_df_list\n",
    "concatenated_df = pd.concat(probe_df_list, ignore_index=True)\n",
    "concatenated_df.info()\n",
    "grouped_df = concatenated_df.groupby('probing_exp_idx')"
   ]
  },
  {
   "cell_type": "code",
   "execution_count": null,
   "metadata": {},
   "outputs": [
    {
     "name": "stdout",
     "output_type": "stream",
     "text": [
      "Average anytime accuracy: nan\n"
     ]
    }
   ],
   "source": [
    "sum_anytime_acc = 0\n",
    "\n",
    "for probing_exp_idx, df in grouped_df:\n",
    "    sum_anytime_acc += df['test_acc'].mean()\n",
    "\n",
    "average_anytime_acc = sum_anytime_acc / len(grouped_df)\n",
    "\n",
    "print(f'Average anytime accuracy: {average_anytime_acc:.4f}')\n"
   ]
  },
  {
   "cell_type": "code",
   "execution_count": null,
   "metadata": {},
   "outputs": [
    {
     "data": {
      "image/png": "[encoded data removed]",
      "text/plain": [
       "<Figure size 800x400 with 1 Axes>"
      ]
     },
     "metadata": {},
     "output_type": "display_data"
    }
   ],
   "source": [
    "for probing_exp_idx, df in grouped_df:\n",
    "    fig = plt.figure(figsize=(8, 4))\n",
    "\n",
    "    plt.plot(df['test_acc'].to_list(), label=f'Probe on exp {probing_exp_idx}')\n",
    "\n",
    "    plt.title(f'Probing accuracy on experience {probing_exp_idx}')\n",
    "    # Plot a vertical line at exp_idx, same color \n",
    "    plt.axvline(x=probing_exp_idx, color=plt.gca().lines[-1].get_color())\n",
    "\n",
    "    plt.show()\n",
    "\n",
    "#plt.legend()\n",
    "#plt.show()\n"
   ]
  },
  {
   "cell_type": "code",
   "execution_count": null,
   "metadata": {},
   "outputs": [],
   "source": []
  }
 ],
 "metadata": {
  "kernelspec": {
   "display_name": "cl_ssl",
   "language": "python",
   "name": "python3"
  },
  "language_info": {
   "codemirror_mode": {
    "name": "ipython",
    "version": 3
   },
   "file_extension": ".py",
   "mimetype": "text/x-python",
   "name": "python",
   "nbconvert_exporter": "python",
   "pygments_lexer": "ipython3",
   "version": "3.10.13"
  }
 },
 "nbformat": 4,
 "nbformat_minor": 2
}
